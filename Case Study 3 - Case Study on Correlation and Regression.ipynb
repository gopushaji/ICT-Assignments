{
 "cells": [
  {
   "cell_type": "code",
   "execution_count": 1,
   "id": "d4e1b50e",
   "metadata": {},
   "outputs": [],
   "source": [
    "import numpy as np\n",
    "import pandas as pd\n",
    "import seaborn as sns\n",
    "from scipy.stats import pearsonr,spearmanr\n",
    "from sklearn import linear_model\n",
    "from sklearn.model_selection import train_test_split\n",
    "from sklearn.metrics import mean_squared_error"
   ]
  },
  {
   "cell_type": "code",
   "execution_count": 2,
   "id": "bc5d7167",
   "metadata": {},
   "outputs": [
    {
     "data": {
      "text/plain": [
       "Index(['Date', 'Add1(in Thousands)', 'Add2(in Thousands)',\n",
       "       'Add3(in Thousands)', 'Add4(in Thousands)', 'Add5(in Thousands)',\n",
       "       'Profit(in Thousands)'],\n",
       "      dtype='object')"
      ]
     },
     "execution_count": 2,
     "metadata": {},
     "output_type": "execute_result"
    }
   ],
   "source": [
    "data= pd.read_csv('G:\\DSA\\Activity\\Add_sales_data_2018.csv')\n",
    "data.columns"
   ]
  },
  {
   "cell_type": "code",
   "execution_count": 3,
   "id": "342ce0fe",
   "metadata": {},
   "outputs": [
    {
     "data": {
      "text/html": [
       "<div>\n",
       "<style scoped>\n",
       "    .dataframe tbody tr th:only-of-type {\n",
       "        vertical-align: middle;\n",
       "    }\n",
       "\n",
       "    .dataframe tbody tr th {\n",
       "        vertical-align: top;\n",
       "    }\n",
       "\n",
       "    .dataframe thead th {\n",
       "        text-align: right;\n",
       "    }\n",
       "</style>\n",
       "<table border=\"1\" class=\"dataframe\">\n",
       "  <thead>\n",
       "    <tr style=\"text-align: right;\">\n",
       "      <th></th>\n",
       "      <th>date</th>\n",
       "      <th>add1</th>\n",
       "      <th>add2</th>\n",
       "      <th>add3</th>\n",
       "      <th>add4</th>\n",
       "      <th>add5</th>\n",
       "      <th>profit</th>\n",
       "    </tr>\n",
       "  </thead>\n",
       "  <tbody>\n",
       "    <tr>\n",
       "      <th>0</th>\n",
       "      <td>2018-10-08</td>\n",
       "      <td>208.00</td>\n",
       "      <td>222.25</td>\n",
       "      <td>206.85</td>\n",
       "      <td>216.00</td>\n",
       "      <td>215.15</td>\n",
       "      <td>4093.065</td>\n",
       "    </tr>\n",
       "    <tr>\n",
       "      <th>1</th>\n",
       "      <td>2018-10-05</td>\n",
       "      <td>217.00</td>\n",
       "      <td>218.60</td>\n",
       "      <td>205.90</td>\n",
       "      <td>210.25</td>\n",
       "      <td>209.20</td>\n",
       "      <td>4042.448</td>\n",
       "    </tr>\n",
       "    <tr>\n",
       "      <th>2</th>\n",
       "      <td>2018-10-04</td>\n",
       "      <td>223.50</td>\n",
       "      <td>227.80</td>\n",
       "      <td>216.15</td>\n",
       "      <td>217.25</td>\n",
       "      <td>218.20</td>\n",
       "      <td>4213.819</td>\n",
       "    </tr>\n",
       "    <tr>\n",
       "      <th>3</th>\n",
       "      <td>2018-10-03</td>\n",
       "      <td>230.00</td>\n",
       "      <td>237.50</td>\n",
       "      <td>225.75</td>\n",
       "      <td>226.45</td>\n",
       "      <td>227.60</td>\n",
       "      <td>4391.665</td>\n",
       "    </tr>\n",
       "    <tr>\n",
       "      <th>4</th>\n",
       "      <td>2018-10-01</td>\n",
       "      <td>234.55</td>\n",
       "      <td>234.60</td>\n",
       "      <td>221.05</td>\n",
       "      <td>230.30</td>\n",
       "      <td>230.90</td>\n",
       "      <td>4350.683</td>\n",
       "    </tr>\n",
       "  </tbody>\n",
       "</table>\n",
       "</div>"
      ],
      "text/plain": [
       "         date    add1    add2    add3    add4    add5    profit\n",
       "0  2018-10-08  208.00  222.25  206.85  216.00  215.15  4093.065\n",
       "1  2018-10-05  217.00  218.60  205.90  210.25  209.20  4042.448\n",
       "2  2018-10-04  223.50  227.80  216.15  217.25  218.20  4213.819\n",
       "3  2018-10-03  230.00  237.50  225.75  226.45  227.60  4391.665\n",
       "4  2018-10-01  234.55  234.60  221.05  230.30  230.90  4350.683"
      ]
     },
     "execution_count": 3,
     "metadata": {},
     "output_type": "execute_result"
    }
   ],
   "source": [
    "data.columns=['date','add1','add2','add3','add4','add5','profit']\n",
    "data.head()"
   ]
  },
  {
   "cell_type": "markdown",
   "id": "9800b227",
   "metadata": {},
   "source": [
    "# Question 1"
   ]
  },
  {
   "cell_type": "code",
   "execution_count": 4,
   "id": "61bf7695",
   "metadata": {},
   "outputs": [
    {
     "data": {
      "text/html": [
       "<div>\n",
       "<style scoped>\n",
       "    .dataframe tbody tr th:only-of-type {\n",
       "        vertical-align: middle;\n",
       "    }\n",
       "\n",
       "    .dataframe tbody tr th {\n",
       "        vertical-align: top;\n",
       "    }\n",
       "\n",
       "    .dataframe thead th {\n",
       "        text-align: right;\n",
       "    }\n",
       "</style>\n",
       "<table border=\"1\" class=\"dataframe\">\n",
       "  <thead>\n",
       "    <tr style=\"text-align: right;\">\n",
       "      <th></th>\n",
       "      <th>profit</th>\n",
       "    </tr>\n",
       "  </thead>\n",
       "  <tbody>\n",
       "    <tr>\n",
       "      <th>add1</th>\n",
       "      <td>0.991975</td>\n",
       "    </tr>\n",
       "    <tr>\n",
       "      <th>add2</th>\n",
       "      <td>0.999145</td>\n",
       "    </tr>\n",
       "    <tr>\n",
       "      <th>add3</th>\n",
       "      <td>0.993389</td>\n",
       "    </tr>\n",
       "    <tr>\n",
       "      <th>add4</th>\n",
       "      <td>0.993346</td>\n",
       "    </tr>\n",
       "    <tr>\n",
       "      <th>add5</th>\n",
       "      <td>0.993710</td>\n",
       "    </tr>\n",
       "  </tbody>\n",
       "</table>\n",
       "</div>"
      ],
      "text/plain": [
       "        profit\n",
       "add1  0.991975\n",
       "add2  0.999145\n",
       "add3  0.993389\n",
       "add4  0.993346\n",
       "add5  0.993710"
      ]
     },
     "execution_count": 4,
     "metadata": {},
     "output_type": "execute_result"
    }
   ],
   "source": [
    "data.corr().loc['add1':'add5','profit':]"
   ]
  },
  {
   "cell_type": "code",
   "execution_count": 5,
   "id": "f103bf3a",
   "metadata": {},
   "outputs": [
    {
     "data": {
      "text/plain": [
       "<AxesSubplot:>"
      ]
     },
     "execution_count": 5,
     "metadata": {},
     "output_type": "execute_result"
    },
    {
     "data": {
      "image/png": "[encoded data removed]",
      "text/plain": [
       "<Figure size 432x288 with 2 Axes>"
      ]
     },
     "metadata": {
      "needs_background": "light"
     },
     "output_type": "display_data"
    }
   ],
   "source": [
    "sns.heatmap(data.corr().loc['add1':'add5','profit':],vmin=0.7,vmax=1,annot=True)"
   ]
  },
  {
   "cell_type": "markdown",
   "id": "1c3d324f",
   "metadata": {},
   "source": [
    "The above table shows the relation of the expenditure for each add with the profit generated. \n",
    "\n",
    "It can be observed that spend for all the five add has a strong positive correlation with the profit generated.\n",
    "\n",
    "The individual r values along with p values are printed below\n"
   ]
  },
  {
   "cell_type": "code",
   "execution_count": 6,
   "id": "dc54dcf7",
   "metadata": {},
   "outputs": [
    {
     "name": "stdout",
     "output_type": "stream",
     "text": [
      "Pearson R Coefficient between add1 expenditure and profit is 0.9920 and P-value is 0.000\n"
     ]
    }
   ],
   "source": [
    "pearsonr_coeff,p_value=pearsonr(data.add1,data.profit)\n",
    "print('Pearson R Coefficient between add1 expenditure and profit is %0.4f and P-value is %0.3f' %(pearsonr_coeff,p_value))"
   ]
  },
  {
   "cell_type": "code",
   "execution_count": 7,
   "id": "b3144f12",
   "metadata": {},
   "outputs": [
    {
     "name": "stdout",
     "output_type": "stream",
     "text": [
      "Pearson R Coefficient between add2 expenditure and profit is 0.9991 and P-value is 0.000\n"
     ]
    }
   ],
   "source": [
    "pearsonr_coeff,p_value=pearsonr(data.add2,data.profit)\n",
    "print('Pearson R Coefficient between add2 expenditure and profit is %0.4f and P-value is %0.3f' %(pearsonr_coeff,p_value))"
   ]
  },
  {
   "cell_type": "code",
   "execution_count": 8,
   "id": "7baeda55",
   "metadata": {},
   "outputs": [
    {
     "name": "stdout",
     "output_type": "stream",
     "text": [
      "Pearson R Coefficient between add3 expenditure and profit is 0.9934 and P-value is 0.000\n"
     ]
    }
   ],
   "source": [
    "pearsonr_coeff,p_value=pearsonr(data.add3,data.profit)\n",
    "print('Pearson R Coefficient between add3 expenditure and profit is %0.4f and P-value is %0.3f' %(pearsonr_coeff,p_value))"
   ]
  },
  {
   "cell_type": "code",
   "execution_count": 9,
   "id": "dacc113b",
   "metadata": {},
   "outputs": [
    {
     "name": "stdout",
     "output_type": "stream",
     "text": [
      "Pearson R Coefficient between add4 expenditure and profit is 0.9933 and P-value is 0.000\n"
     ]
    }
   ],
   "source": [
    "pearsonr_coeff,p_value=pearsonr(data.add4,data.profit)\n",
    "print('Pearson R Coefficient between add4 expenditure and profit is %0.4f and P-value is %0.3f' %(pearsonr_coeff,p_value))"
   ]
  },
  {
   "cell_type": "code",
   "execution_count": 10,
   "id": "b304838d",
   "metadata": {},
   "outputs": [
    {
     "name": "stdout",
     "output_type": "stream",
     "text": [
      "Pearson R Coefficient between add5 expenditure and profit is 0.9937 and P-value is 0.000\n"
     ]
    }
   ],
   "source": [
    "pearsonr_coeff,p_value=pearsonr(data.add5,data.profit)\n",
    "print('Pearson R Coefficient between add5 expenditure and profit is %0.4f and P-value is %0.3f' %(pearsonr_coeff,p_value))"
   ]
  },
  {
   "cell_type": "code",
   "execution_count": null,
   "id": "9d2b784a",
   "metadata": {},
   "outputs": [],
   "source": []
  },
  {
   "cell_type": "markdown",
   "id": "59da6b38",
   "metadata": {},
   "source": [
    "# Question 2"
   ]
  },
  {
   "cell_type": "markdown",
   "id": "dceee0a5",
   "metadata": {},
   "source": [
    "Separating features and responses"
   ]
  },
  {
   "cell_type": "code",
   "execution_count": 11,
   "id": "fd9997ff",
   "metadata": {},
   "outputs": [],
   "source": [
    "X=data.drop(['date','profit'],axis=1).values\n",
    "y=data[['profit']].values"
   ]
  },
  {
   "cell_type": "markdown",
   "id": "239c25a2",
   "metadata": {},
   "source": [
    "Spliting to train and test sets in 80-20 proportion"
   ]
  },
  {
   "cell_type": "code",
   "execution_count": 12,
   "id": "2e67dc26",
   "metadata": {},
   "outputs": [],
   "source": [
    "X_train, X_test,y_train,y_test =train_test_split(X,y,random_state=43,test_size=.2)"
   ]
  },
  {
   "cell_type": "markdown",
   "id": "84a562fb",
   "metadata": {},
   "source": [
    "Creating linear regression model using train set"
   ]
  },
  {
   "cell_type": "code",
   "execution_count": 13,
   "id": "7da9938e",
   "metadata": {},
   "outputs": [],
   "source": [
    "lr=linear_model.LinearRegression()\n",
    "model=lr.fit(X_train,y_train)"
   ]
  },
  {
   "cell_type": "markdown",
   "id": "344cc444",
   "metadata": {},
   "source": [
    "Making prediction using test set"
   ]
  },
  {
   "cell_type": "code",
   "execution_count": 14,
   "id": "a30150c3",
   "metadata": {},
   "outputs": [
    {
     "name": "stdout",
     "output_type": "stream",
     "text": [
      "[[4947.72 ]\n",
      " [4480.363]\n",
      " [5001.615]\n",
      " [5013.207]\n",
      " [5043.705]\n",
      " [5078.636]]\n"
     ]
    }
   ],
   "source": [
    "pred = model.predict(X_test)\n",
    "print(pred[0:6])"
   ]
  },
  {
   "cell_type": "code",
   "execution_count": 15,
   "id": "25a84347",
   "metadata": {},
   "outputs": [
    {
     "name": "stdout",
     "output_type": "stream",
     "text": [
      "[[4947.72 ]\n",
      " [4480.363]\n",
      " [5001.615]\n",
      " [5013.207]\n",
      " [5043.705]\n",
      " [5078.636]]\n"
     ]
    }
   ],
   "source": [
    "print(y_test[0:6])"
   ]
  },
  {
   "cell_type": "code",
   "execution_count": 16,
   "id": "917360ce",
   "metadata": {},
   "outputs": [
    {
     "name": "stdout",
     "output_type": "stream",
     "text": [
      "Mean Squared Error is 0.000000\n"
     ]
    }
   ],
   "source": [
    "print('Mean Squared Error is %f' %mean_squared_error(y_test,pred))"
   ]
  },
  {
   "cell_type": "markdown",
   "id": "9d546a53",
   "metadata": {},
   "source": [
    "The mean squared error is observed to be close to zero , which means that the model fits the data very closely"
   ]
  },
  {
   "cell_type": "markdown",
   "id": "bf352b91",
   "metadata": {},
   "source": [
    "# Question 3"
   ]
  },
  {
   "cell_type": "markdown",
   "id": "43ef3312",
   "metadata": {},
   "source": [
    "Creating a sample feature array for the add expenditures [290,312,309,298,320]"
   ]
  },
  {
   "cell_type": "code",
   "execution_count": 17,
   "id": "efdafa6d",
   "metadata": {},
   "outputs": [],
   "source": [
    "X_sample= np.array([290,312,309,298,320])\n",
    "X_sample=X_sample.reshape(1,-1)"
   ]
  },
  {
   "cell_type": "markdown",
   "id": "c6977a04",
   "metadata": {},
   "source": [
    "Making prediction using the sample case"
   ]
  },
  {
   "cell_type": "code",
   "execution_count": 18,
   "id": "bffbab1e",
   "metadata": {},
   "outputs": [
    {
     "name": "stdout",
     "output_type": "stream",
     "text": [
      "The given add expenditures is expected to generate a profit of 5820.060 thousand. \n"
     ]
    }
   ],
   "source": [
    "predicted_profit= model.predict(X_sample)\n",
    "print('The given add expenditures is expected to generate a profit of %0.3f thousand. '%predicted_profit)"
   ]
  },
  {
   "cell_type": "code",
   "execution_count": null,
   "id": "e23c7ec5",
   "metadata": {},
   "outputs": [],
   "source": []
  }
 ],
 "metadata": {
  "kernelspec": {
   "display_name": "Python 3",
   "language": "python",
   "name": "python3"
  },
  "language_info": {
   "codemirror_mode": {
    "name": "ipython",
    "version": 3
   },
   "file_extension": ".py",
   "mimetype": "text/x-python",
   "name": "python",
   "nbconvert_exporter": "python",
   "pygments_lexer": "ipython3",
   "version": "3.8.8"
  }
 },
 "nbformat": 4,
 "nbformat_minor": 5
}
