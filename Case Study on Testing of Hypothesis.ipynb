{
 "cells": [
  {
   "cell_type": "code",
   "execution_count": 1,
   "id": "f98f48c2",
   "metadata": {},
   "outputs": [],
   "source": [
    "import numpy as np\n",
    "import pandas as pd\n",
    "from scipy import stats\n",
    "import seaborn as sns\n",
    "import matplotlib.pyplot as plt"
   ]
  },
  {
   "cell_type": "code",
   "execution_count": 2,
   "id": "f0b0eb9e",
   "metadata": {},
   "outputs": [],
   "source": [
    "data = pd.read_csv('G:\\DSA\\Activity\\Sales_add.csv')"
   ]
  },
  {
   "cell_type": "code",
   "execution_count": 3,
   "id": "cedbfb31",
   "metadata": {},
   "outputs": [
    {
     "data": {
      "text/plain": [
       "Index(['Month', 'Region', 'Manager', 'Sales_before_digital_add(in $)',\n",
       "       'Sales_After_digital_add(in $)'],\n",
       "      dtype='object')"
      ]
     },
     "execution_count": 3,
     "metadata": {},
     "output_type": "execute_result"
    }
   ],
   "source": [
    "data.columns"
   ]
  },
  {
   "cell_type": "code",
   "execution_count": 4,
   "id": "90adad9f",
   "metadata": {},
   "outputs": [],
   "source": [
    "data.columns=['Month','Region','Manager','Before_dm','After_dm']"
   ]
  },
  {
   "cell_type": "code",
   "execution_count": 5,
   "id": "dcec7968",
   "metadata": {},
   "outputs": [
    {
     "data": {
      "text/html": [
       "<div>\n",
       "<style scoped>\n",
       "    .dataframe tbody tr th:only-of-type {\n",
       "        vertical-align: middle;\n",
       "    }\n",
       "\n",
       "    .dataframe tbody tr th {\n",
       "        vertical-align: top;\n",
       "    }\n",
       "\n",
       "    .dataframe thead th {\n",
       "        text-align: right;\n",
       "    }\n",
       "</style>\n",
       "<table border=\"1\" class=\"dataframe\">\n",
       "  <thead>\n",
       "    <tr style=\"text-align: right;\">\n",
       "      <th></th>\n",
       "      <th>Month</th>\n",
       "      <th>Region</th>\n",
       "      <th>Manager</th>\n",
       "      <th>Before_dm</th>\n",
       "      <th>After_dm</th>\n",
       "    </tr>\n",
       "  </thead>\n",
       "  <tbody>\n",
       "    <tr>\n",
       "      <th>0</th>\n",
       "      <td>Month-1</td>\n",
       "      <td>Region - A</td>\n",
       "      <td>Manager - A</td>\n",
       "      <td>132921</td>\n",
       "      <td>270390</td>\n",
       "    </tr>\n",
       "    <tr>\n",
       "      <th>1</th>\n",
       "      <td>Month-2</td>\n",
       "      <td>Region - A</td>\n",
       "      <td>Manager - C</td>\n",
       "      <td>149559</td>\n",
       "      <td>223334</td>\n",
       "    </tr>\n",
       "    <tr>\n",
       "      <th>2</th>\n",
       "      <td>Month-3</td>\n",
       "      <td>Region - B</td>\n",
       "      <td>Manager - A</td>\n",
       "      <td>146278</td>\n",
       "      <td>244243</td>\n",
       "    </tr>\n",
       "    <tr>\n",
       "      <th>3</th>\n",
       "      <td>Month-4</td>\n",
       "      <td>Region - B</td>\n",
       "      <td>Manager - B</td>\n",
       "      <td>152167</td>\n",
       "      <td>231808</td>\n",
       "    </tr>\n",
       "    <tr>\n",
       "      <th>4</th>\n",
       "      <td>Month-5</td>\n",
       "      <td>Region - C</td>\n",
       "      <td>Manager - B</td>\n",
       "      <td>159525</td>\n",
       "      <td>258402</td>\n",
       "    </tr>\n",
       "    <tr>\n",
       "      <th>5</th>\n",
       "      <td>Month-6</td>\n",
       "      <td>Region - A</td>\n",
       "      <td>Manager - B</td>\n",
       "      <td>137163</td>\n",
       "      <td>256948</td>\n",
       "    </tr>\n",
       "    <tr>\n",
       "      <th>6</th>\n",
       "      <td>Month-7</td>\n",
       "      <td>Region - C</td>\n",
       "      <td>Manager - C</td>\n",
       "      <td>130625</td>\n",
       "      <td>222106</td>\n",
       "    </tr>\n",
       "    <tr>\n",
       "      <th>7</th>\n",
       "      <td>Month-8</td>\n",
       "      <td>Region - A</td>\n",
       "      <td>Manager - A</td>\n",
       "      <td>131140</td>\n",
       "      <td>230637</td>\n",
       "    </tr>\n",
       "    <tr>\n",
       "      <th>8</th>\n",
       "      <td>Month-9</td>\n",
       "      <td>Region - B</td>\n",
       "      <td>Manager - C</td>\n",
       "      <td>171259</td>\n",
       "      <td>226261</td>\n",
       "    </tr>\n",
       "    <tr>\n",
       "      <th>9</th>\n",
       "      <td>Month-10</td>\n",
       "      <td>Region - C</td>\n",
       "      <td>Manager - B</td>\n",
       "      <td>141956</td>\n",
       "      <td>193735</td>\n",
       "    </tr>\n",
       "    <tr>\n",
       "      <th>10</th>\n",
       "      <td>Month-11</td>\n",
       "      <td>Region - B</td>\n",
       "      <td>Manager - C</td>\n",
       "      <td>159339</td>\n",
       "      <td>203175</td>\n",
       "    </tr>\n",
       "    <tr>\n",
       "      <th>11</th>\n",
       "      <td>Month-12</td>\n",
       "      <td>Region - A</td>\n",
       "      <td>Manager - A</td>\n",
       "      <td>178939</td>\n",
       "      <td>276279</td>\n",
       "    </tr>\n",
       "    <tr>\n",
       "      <th>12</th>\n",
       "      <td>Month-13</td>\n",
       "      <td>Region - B</td>\n",
       "      <td>Manager - A</td>\n",
       "      <td>145062</td>\n",
       "      <td>205180</td>\n",
       "    </tr>\n",
       "    <tr>\n",
       "      <th>13</th>\n",
       "      <td>Month-14</td>\n",
       "      <td>Region - A</td>\n",
       "      <td>Manager - A</td>\n",
       "      <td>151514</td>\n",
       "      <td>253131</td>\n",
       "    </tr>\n",
       "    <tr>\n",
       "      <th>14</th>\n",
       "      <td>Month-15</td>\n",
       "      <td>Region - C</td>\n",
       "      <td>Manager - A</td>\n",
       "      <td>147463</td>\n",
       "      <td>229336</td>\n",
       "    </tr>\n",
       "    <tr>\n",
       "      <th>15</th>\n",
       "      <td>Month-16</td>\n",
       "      <td>Region - A</td>\n",
       "      <td>Manager - B</td>\n",
       "      <td>177195</td>\n",
       "      <td>187305</td>\n",
       "    </tr>\n",
       "    <tr>\n",
       "      <th>16</th>\n",
       "      <td>Month-17</td>\n",
       "      <td>Region - A</td>\n",
       "      <td>Manager - C</td>\n",
       "      <td>140862</td>\n",
       "      <td>234908</td>\n",
       "    </tr>\n",
       "    <tr>\n",
       "      <th>17</th>\n",
       "      <td>Month-18</td>\n",
       "      <td>Region - C</td>\n",
       "      <td>Manager - B</td>\n",
       "      <td>167996</td>\n",
       "      <td>191517</td>\n",
       "    </tr>\n",
       "    <tr>\n",
       "      <th>18</th>\n",
       "      <td>Month-19</td>\n",
       "      <td>Region - B</td>\n",
       "      <td>Manager - A</td>\n",
       "      <td>132135</td>\n",
       "      <td>227040</td>\n",
       "    </tr>\n",
       "    <tr>\n",
       "      <th>19</th>\n",
       "      <td>Month-20</td>\n",
       "      <td>Region - A</td>\n",
       "      <td>Manager - B</td>\n",
       "      <td>152493</td>\n",
       "      <td>212579</td>\n",
       "    </tr>\n",
       "  </tbody>\n",
       "</table>\n",
       "</div>"
      ],
      "text/plain": [
       "       Month      Region      Manager  Before_dm  After_dm\n",
       "0    Month-1  Region - A  Manager - A     132921    270390\n",
       "1    Month-2  Region - A  Manager - C     149559    223334\n",
       "2    Month-3  Region - B  Manager - A     146278    244243\n",
       "3    Month-4  Region - B  Manager - B     152167    231808\n",
       "4    Month-5  Region - C  Manager - B     159525    258402\n",
       "5    Month-6  Region - A  Manager - B     137163    256948\n",
       "6    Month-7  Region - C  Manager - C     130625    222106\n",
       "7    Month-8  Region - A  Manager - A     131140    230637\n",
       "8    Month-9  Region - B  Manager - C     171259    226261\n",
       "9   Month-10  Region - C  Manager - B     141956    193735\n",
       "10  Month-11  Region - B  Manager - C     159339    203175\n",
       "11  Month-12  Region - A  Manager - A     178939    276279\n",
       "12  Month-13  Region - B  Manager - A     145062    205180\n",
       "13  Month-14  Region - A  Manager - A     151514    253131\n",
       "14  Month-15  Region - C  Manager - A     147463    229336\n",
       "15  Month-16  Region - A  Manager - B     177195    187305\n",
       "16  Month-17  Region - A  Manager - C     140862    234908\n",
       "17  Month-18  Region - C  Manager - B     167996    191517\n",
       "18  Month-19  Region - B  Manager - A     132135    227040\n",
       "19  Month-20  Region - A  Manager - B     152493    212579"
      ]
     },
     "execution_count": 5,
     "metadata": {},
     "output_type": "execute_result"
    }
   ],
   "source": [
    "data.head(20)"
   ]
  },
  {
   "cell_type": "code",
   "execution_count": 6,
   "id": "fbf28d99",
   "metadata": {},
   "outputs": [
    {
     "data": {
      "text/plain": [
       "(22, 5)"
      ]
     },
     "execution_count": 6,
     "metadata": {},
     "output_type": "execute_result"
    }
   ],
   "source": [
    "data.shape"
   ]
  },
  {
   "cell_type": "markdown",
   "id": "dde8a947",
   "metadata": {},
   "source": [
    "No. of observations = 22"
   ]
  },
  {
   "cell_type": "code",
   "execution_count": 7,
   "id": "efa6f49d",
   "metadata": {},
   "outputs": [
    {
     "data": {
      "text/plain": [
       "Month        0\n",
       "Region       0\n",
       "Manager      0\n",
       "Before_dm    0\n",
       "After_dm     0\n",
       "dtype: int64"
      ]
     },
     "execution_count": 7,
     "metadata": {},
     "output_type": "execute_result"
    }
   ],
   "source": [
    "data.isnull().sum()"
   ]
  },
  {
   "cell_type": "markdown",
   "id": "a1750a83",
   "metadata": {},
   "source": [
    "No null values to be treated"
   ]
  },
  {
   "cell_type": "code",
   "execution_count": 8,
   "id": "6e308518",
   "metadata": {},
   "outputs": [
    {
     "data": {
      "text/html": [
       "<div>\n",
       "<style scoped>\n",
       "    .dataframe tbody tr th:only-of-type {\n",
       "        vertical-align: middle;\n",
       "    }\n",
       "\n",
       "    .dataframe tbody tr th {\n",
       "        vertical-align: top;\n",
       "    }\n",
       "\n",
       "    .dataframe thead th {\n",
       "        text-align: right;\n",
       "    }\n",
       "</style>\n",
       "<table border=\"1\" class=\"dataframe\">\n",
       "  <thead>\n",
       "    <tr style=\"text-align: right;\">\n",
       "      <th></th>\n",
       "      <th>Before_dm</th>\n",
       "      <th>After_dm</th>\n",
       "    </tr>\n",
       "  </thead>\n",
       "  <tbody>\n",
       "    <tr>\n",
       "      <th>count</th>\n",
       "      <td>22.000000</td>\n",
       "      <td>22.000000</td>\n",
       "    </tr>\n",
       "    <tr>\n",
       "      <th>mean</th>\n",
       "      <td>149239.954545</td>\n",
       "      <td>231123.727273</td>\n",
       "    </tr>\n",
       "    <tr>\n",
       "      <th>std</th>\n",
       "      <td>14844.042921</td>\n",
       "      <td>25556.777061</td>\n",
       "    </tr>\n",
       "    <tr>\n",
       "      <th>min</th>\n",
       "      <td>130263.000000</td>\n",
       "      <td>187305.000000</td>\n",
       "    </tr>\n",
       "    <tr>\n",
       "      <th>25%</th>\n",
       "      <td>138087.750000</td>\n",
       "      <td>214960.750000</td>\n",
       "    </tr>\n",
       "    <tr>\n",
       "      <th>50%</th>\n",
       "      <td>147444.000000</td>\n",
       "      <td>229986.500000</td>\n",
       "    </tr>\n",
       "    <tr>\n",
       "      <th>75%</th>\n",
       "      <td>157627.500000</td>\n",
       "      <td>250909.000000</td>\n",
       "    </tr>\n",
       "    <tr>\n",
       "      <th>max</th>\n",
       "      <td>178939.000000</td>\n",
       "      <td>276279.000000</td>\n",
       "    </tr>\n",
       "  </tbody>\n",
       "</table>\n",
       "</div>"
      ],
      "text/plain": [
       "           Before_dm       After_dm\n",
       "count      22.000000      22.000000\n",
       "mean   149239.954545  231123.727273\n",
       "std     14844.042921   25556.777061\n",
       "min    130263.000000  187305.000000\n",
       "25%    138087.750000  214960.750000\n",
       "50%    147444.000000  229986.500000\n",
       "75%    157627.500000  250909.000000\n",
       "max    178939.000000  276279.000000"
      ]
     },
     "execution_count": 8,
     "metadata": {},
     "output_type": "execute_result"
    }
   ],
   "source": [
    "data.describe()"
   ]
  },
  {
   "cell_type": "code",
   "execution_count": 9,
   "id": "837e61a5",
   "metadata": {},
   "outputs": [
    {
     "data": {
      "image/png": "[encoded data removed]",
      "text/plain": [
       "<Figure size 432x288 with 1 Axes>"
      ]
     },
     "metadata": {
      "needs_background": "light"
     },
     "output_type": "display_data"
    }
   ],
   "source": [
    "plt.boxplot(data[['Before_dm','After_dm']], data=data)\n",
    "plt.show()"
   ]
  },
  {
   "cell_type": "markdown",
   "id": "835c9889",
   "metadata": {},
   "source": [
    "No significant Outliers in the data"
   ]
  },
  {
   "cell_type": "code",
   "execution_count": 10,
   "id": "c31dab54",
   "metadata": {},
   "outputs": [
    {
     "data": {
      "image/png": "[encoded data removed]",
      "text/plain": [
       "<Figure size 720x216 with 2 Axes>"
      ]
     },
     "metadata": {
      "needs_background": "light"
     },
     "output_type": "display_data"
    }
   ],
   "source": [
    "plt.figure(figsize=(10,3))\n",
    "plt.subplot(1,2,1)\n",
    "plt.hist(data.Before_dm)\n",
    "plt.subplot(1,2,2)\n",
    "plt.hist(data.After_dm)\n",
    "plt.show()"
   ]
  },
  {
   "cell_type": "markdown",
   "id": "28322ad4",
   "metadata": {},
   "source": [
    "Data Doesnt seem normally distributed"
   ]
  },
  {
   "cell_type": "markdown",
   "id": "cabd378f",
   "metadata": {},
   "source": [
    "## Question 1"
   ]
  },
  {
   "cell_type": "markdown",
   "id": "a93d881f",
   "metadata": {},
   "source": [
    "Null Hypothesis: Ho states that there is no increase in the sales after digital marketing was carried out.\n",
    "\n",
    "Alternate Hypothesis: Ha states that the digital marketing has increased after adopting digital marketing"
   ]
  },
  {
   "cell_type": "markdown",
   "id": "0fd77c87",
   "metadata": {},
   "source": [
    "Setting Level of Significance to 5% or 0.05"
   ]
  },
  {
   "cell_type": "code",
   "execution_count": 11,
   "id": "c8a217ad",
   "metadata": {},
   "outputs": [],
   "source": [
    "before= data['Before_dm'].values\n",
    "after=data['After_dm'].values"
   ]
  },
  {
   "cell_type": "code",
   "execution_count": 12,
   "id": "9e78a80e",
   "metadata": {},
   "outputs": [
    {
     "name": "stdout",
     "output_type": "stream",
     "text": [
      "t test statistic is 12.09071 and P - value is  0.00000\n",
      "\n",
      "\n",
      "P -value is less than Level of Significance\n",
      "Null Hypothesis Rejected \n",
      "The Sales has increased after the Digital Marketing\n"
     ]
    }
   ],
   "source": [
    "t_test_stat, p_value =stats.ttest_rel(after,before,alternative='greater')\n",
    "print('t test statistic is %0.5f and P - value is % 0.5f' %(t_test_stat, p_value))\n",
    "if (p_value < 0.05):\n",
    "    print('\\n\\nP -value is less than Level of Significance')\n",
    "    print('Null Hypothesis Rejected \\nThe Sales has increased after the Digital Marketing')\n",
    "else:\n",
    "    print('\\n\\nP -value is not less than Level of Significance')\n",
    "    print('Null Hypothesis to be accepted \\nThe Sales has not increased after the Digital Marketing')"
   ]
  },
  {
   "cell_type": "markdown",
   "id": "ed77683c",
   "metadata": {},
   "source": [
    "## Question 2"
   ]
  },
  {
   "cell_type": "markdown",
   "id": "0d601d5f",
   "metadata": {},
   "source": [
    "Null Hypothesis: Ho states that there is no dependancies between Region and Manager.\n",
    "\n",
    "Alternate Hypothesis: Ha states that there is some dependancies between Region and Manager.\n",
    "\n",
    "Set Level of Significance to 0.05"
   ]
  },
  {
   "cell_type": "code",
   "execution_count": 13,
   "id": "513fe64e",
   "metadata": {},
   "outputs": [
    {
     "data": {
      "text/plain": [
       "Region      Manager    \n",
       "Region - A  Manager - A    4\n",
       "            Manager - B    3\n",
       "            Manager - C    3\n",
       "Region - B  Manager - A    4\n",
       "            Manager - B    1\n",
       "            Manager - C    2\n",
       "Region - C  Manager - A    1\n",
       "            Manager - B    3\n",
       "            Manager - C    1\n",
       "dtype: int64"
      ]
     },
     "execution_count": 13,
     "metadata": {},
     "output_type": "execute_result"
    }
   ],
   "source": [
    "data.groupby(['Region','Manager']).size()"
   ]
  },
  {
   "cell_type": "code",
   "execution_count": 14,
   "id": "022b284d",
   "metadata": {},
   "outputs": [
    {
     "data": {
      "text/html": [
       "<div>\n",
       "<style scoped>\n",
       "    .dataframe tbody tr th:only-of-type {\n",
       "        vertical-align: middle;\n",
       "    }\n",
       "\n",
       "    .dataframe tbody tr th {\n",
       "        vertical-align: top;\n",
       "    }\n",
       "\n",
       "    .dataframe thead th {\n",
       "        text-align: right;\n",
       "    }\n",
       "</style>\n",
       "<table border=\"1\" class=\"dataframe\">\n",
       "  <thead>\n",
       "    <tr style=\"text-align: right;\">\n",
       "      <th>Region</th>\n",
       "      <th>Region - A</th>\n",
       "      <th>Region - B</th>\n",
       "      <th>Region - C</th>\n",
       "    </tr>\n",
       "    <tr>\n",
       "      <th>Manager</th>\n",
       "      <th></th>\n",
       "      <th></th>\n",
       "      <th></th>\n",
       "    </tr>\n",
       "  </thead>\n",
       "  <tbody>\n",
       "    <tr>\n",
       "      <th>Manager - A</th>\n",
       "      <td>4</td>\n",
       "      <td>4</td>\n",
       "      <td>1</td>\n",
       "    </tr>\n",
       "    <tr>\n",
       "      <th>Manager - B</th>\n",
       "      <td>3</td>\n",
       "      <td>1</td>\n",
       "      <td>3</td>\n",
       "    </tr>\n",
       "    <tr>\n",
       "      <th>Manager - C</th>\n",
       "      <td>3</td>\n",
       "      <td>2</td>\n",
       "      <td>1</td>\n",
       "    </tr>\n",
       "  </tbody>\n",
       "</table>\n",
       "</div>"
      ],
      "text/plain": [
       "Region       Region - A  Region - B  Region - C\n",
       "Manager                                        \n",
       "Manager - A           4           4           1\n",
       "Manager - B           3           1           3\n",
       "Manager - C           3           2           1"
      ]
     },
     "execution_count": 14,
     "metadata": {},
     "output_type": "execute_result"
    }
   ],
   "source": [
    "cont_table=pd.crosstab(data['Manager'],data['Region'])\n",
    "cont_table"
   ]
  },
  {
   "cell_type": "markdown",
   "id": "5b3b4d84",
   "metadata": {},
   "source": [
    "Contingency Table"
   ]
  },
  {
   "cell_type": "code",
   "execution_count": 15,
   "id": "099bf0fa",
   "metadata": {},
   "outputs": [
    {
     "name": "stdout",
     "output_type": "stream",
     "text": [
      "\n",
      "Chi2 Statistic:\n",
      " 3.050566893424036\n",
      "\n",
      " P value is:\n",
      " 0.5493991051158094\n",
      "\n",
      " Degree of freedom is:\n",
      " 4\n",
      "\n",
      "Expected Contingency Values:\n",
      " [[4.09090909 2.86363636 2.04545455]\n",
      " [3.18181818 2.22727273 1.59090909]\n",
      " [2.72727273 1.90909091 1.36363636]]\n"
     ]
    }
   ],
   "source": [
    "chi_stat,p_val,df,exp_cont=stats.chi2_contingency(cont_table)\n",
    "print('\\nChi2 Statistic:\\n',chi_stat)\n",
    "print('\\n P value is:\\n',p_val)\n",
    "print('\\n Degree of freedom is:\\n',df)\n",
    "print('\\nExpected Contingency Values:\\n', exp_cont)"
   ]
  },
  {
   "cell_type": "code",
   "execution_count": 16,
   "id": "a89403e8",
   "metadata": {},
   "outputs": [
    {
     "name": "stdout",
     "output_type": "stream",
     "text": [
      "\n",
      "\n",
      "P -value is not less than Level of Significance\n",
      "Null Hypothesis to be accepted \n",
      "There is no dependancies between Region and Manager\n"
     ]
    }
   ],
   "source": [
    "if (p_val < 0.05):\n",
    "    print('\\n\\nP -value is less than Level of Significance')\n",
    "    print('Null Hypothesis Rejected \\nThe There is some dependancies between Region and Manager')\n",
    "else:\n",
    "    print('\\n\\nP -value is not less than Level of Significance')\n",
    "    print('Null Hypothesis to be accepted \\nThere is no dependancies between Region and Manager')"
   ]
  },
  {
   "cell_type": "code",
   "execution_count": null,
   "id": "25db5da5",
   "metadata": {},
   "outputs": [],
   "source": []
  }
 ],
 "metadata": {
  "kernelspec": {
   "display_name": "Python 3",
   "language": "python",
   "name": "python3"
  },
  "language_info": {
   "codemirror_mode": {
    "name": "ipython",
    "version": 3
   },
   "file_extension": ".py",
   "mimetype": "text/x-python",
   "name": "python",
   "nbconvert_exporter": "python",
   "pygments_lexer": "ipython3",
   "version": "3.8.8"
  }
 },
 "nbformat": 4,
 "nbformat_minor": 5
}
